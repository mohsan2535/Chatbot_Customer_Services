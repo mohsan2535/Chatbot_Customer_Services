{
  "nbformat": 4,
  "nbformat_minor": 0,
  "metadata": {
    "colab": {
      "name": "Chatbot.ipynb",
      "provenance": [],
      "collapsed_sections": []
    },
    "kernelspec": {
      "display_name": "Python 3",
      "name": "python3"
    },
    "language_info": {
      "name": "python"
    }
  },
  "cells": [
    {
      "cell_type": "markdown",
      "metadata": {
        "id": "l9aAXt3gRmcO"
      },
      "source": [
        "**Mount Drive**"
      ]
    },
    {
      "cell_type": "code",
      "metadata": {
        "colab": {
          "base_uri": "https://localhost:8080/"
        },
        "id": "2IVsod7wac7K",
        "outputId": "944b22da-c68d-412e-8892-c67e29d6ae5a"
      },
      "source": [
        "from google.colab import drive\n",
        "drive.mount('/content/drive')"
      ],
      "execution_count": 2,
      "outputs": [
        {
          "output_type": "stream",
          "name": "stdout",
          "text": [
            "Drive already mounted at /content/drive; to attempt to forcibly remount, call drive.mount(\"/content/drive\", force_remount=True).\n"
          ]
        }
      ]
    },
    {
      "cell_type": "markdown",
      "metadata": {
        "id": "OtVCOn_gQ-nb"
      },
      "source": [
        " **Install diffrent Packages**\n"
      ]
    },
    {
      "cell_type": "code",
      "metadata": {
        "colab": {
          "base_uri": "https://localhost:8080/"
        },
        "id": "oZotWc6Ae4Jm",
        "outputId": "28a69d9a-102d-4f5d-d55a-8c6c3ae17fe4"
      },
      "source": [
        "!apt-get -qq install -y libarchive-dev && pip install -U libarchive\n",
        "import libarchive\n",
        "!pip install d2l==0.17.0\n",
        "!pip install -U mxnet-cu101==1.7.0"
      ],
      "execution_count": 3,
      "outputs": [
        {
          "output_type": "stream",
          "name": "stdout",
          "text": [
            "Selecting previously unselected package libarchive-dev:amd64.\n",
            "(Reading database ... 155013 files and directories currently installed.)\n",
            "Preparing to unpack .../libarchive-dev_3.2.2-3.1ubuntu0.7_amd64.deb ...\n",
            "Unpacking libarchive-dev:amd64 (3.2.2-3.1ubuntu0.7) ...\n",
            "Setting up libarchive-dev:amd64 (3.2.2-3.1ubuntu0.7) ...\n",
            "Processing triggers for man-db (2.8.3-2ubuntu0.1) ...\n",
            "Collecting libarchive\n",
            "  Downloading libarchive-0.4.7.tar.gz (23 kB)\n",
            "Collecting nose\n",
            "  Downloading nose-1.3.7-py3-none-any.whl (154 kB)\n",
            "\u001b[K     |████████████████████████████████| 154 kB 7.5 MB/s \n",
            "\u001b[?25hBuilding wheels for collected packages: libarchive\n",
            "  Building wheel for libarchive (setup.py) ... \u001b[?25l\u001b[?25hdone\n",
            "  Created wheel for libarchive: filename=libarchive-0.4.7-py3-none-any.whl size=31647 sha256=42d16812377051dcd37bb2aacf629a865b74f63396b42a123aa4e54ddde637e1\n",
            "  Stored in directory: /root/.cache/pip/wheels/63/b1/c6/b3da79bec2012175bd43603eed98ef8548ac1733b77c1d4330\n",
            "Successfully built libarchive\n",
            "Installing collected packages: nose, libarchive\n",
            "Successfully installed libarchive-0.4.7 nose-1.3.7\n",
            "Collecting d2l==0.17.0\n",
            "  Downloading d2l-0.17.0-py3-none-any.whl (83 kB)\n",
            "\u001b[K     |████████████████████████████████| 83 kB 1.2 MB/s \n",
            "\u001b[?25hRequirement already satisfied: numpy in /usr/local/lib/python3.7/dist-packages (from d2l==0.17.0) (1.19.5)\n",
            "Requirement already satisfied: matplotlib in /usr/local/lib/python3.7/dist-packages (from d2l==0.17.0) (3.2.2)\n",
            "Requirement already satisfied: pandas in /usr/local/lib/python3.7/dist-packages (from d2l==0.17.0) (1.1.5)\n",
            "Requirement already satisfied: jupyter in /usr/local/lib/python3.7/dist-packages (from d2l==0.17.0) (1.0.0)\n",
            "Requirement already satisfied: requests in /usr/local/lib/python3.7/dist-packages (from d2l==0.17.0) (2.23.0)\n",
            "Requirement already satisfied: ipykernel in /usr/local/lib/python3.7/dist-packages (from jupyter->d2l==0.17.0) (4.10.1)\n",
            "Requirement already satisfied: notebook in /usr/local/lib/python3.7/dist-packages (from jupyter->d2l==0.17.0) (5.3.1)\n",
            "Requirement already satisfied: qtconsole in /usr/local/lib/python3.7/dist-packages (from jupyter->d2l==0.17.0) (5.1.1)\n",
            "Requirement already satisfied: nbconvert in /usr/local/lib/python3.7/dist-packages (from jupyter->d2l==0.17.0) (5.6.1)\n",
            "Requirement already satisfied: jupyter-console in /usr/local/lib/python3.7/dist-packages (from jupyter->d2l==0.17.0) (5.2.0)\n",
            "Requirement already satisfied: ipywidgets in /usr/local/lib/python3.7/dist-packages (from jupyter->d2l==0.17.0) (7.6.5)\n",
            "Requirement already satisfied: ipython>=4.0.0 in /usr/local/lib/python3.7/dist-packages (from ipykernel->jupyter->d2l==0.17.0) (5.5.0)\n",
            "Requirement already satisfied: traitlets>=4.1.0 in /usr/local/lib/python3.7/dist-packages (from ipykernel->jupyter->d2l==0.17.0) (5.1.0)\n",
            "Requirement already satisfied: jupyter-client in /usr/local/lib/python3.7/dist-packages (from ipykernel->jupyter->d2l==0.17.0) (5.3.5)\n",
            "Requirement already satisfied: tornado>=4.0 in /usr/local/lib/python3.7/dist-packages (from ipykernel->jupyter->d2l==0.17.0) (5.1.1)\n",
            "Requirement already satisfied: decorator in /usr/local/lib/python3.7/dist-packages (from ipython>=4.0.0->ipykernel->jupyter->d2l==0.17.0) (4.4.2)\n",
            "Requirement already satisfied: pygments in /usr/local/lib/python3.7/dist-packages (from ipython>=4.0.0->ipykernel->jupyter->d2l==0.17.0) (2.6.1)\n",
            "Requirement already satisfied: simplegeneric>0.8 in /usr/local/lib/python3.7/dist-packages (from ipython>=4.0.0->ipykernel->jupyter->d2l==0.17.0) (0.8.1)\n",
            "Requirement already satisfied: setuptools>=18.5 in /usr/local/lib/python3.7/dist-packages (from ipython>=4.0.0->ipykernel->jupyter->d2l==0.17.0) (57.4.0)\n",
            "Requirement already satisfied: pickleshare in /usr/local/lib/python3.7/dist-packages (from ipython>=4.0.0->ipykernel->jupyter->d2l==0.17.0) (0.7.5)\n",
            "Requirement already satisfied: prompt-toolkit<2.0.0,>=1.0.4 in /usr/local/lib/python3.7/dist-packages (from ipython>=4.0.0->ipykernel->jupyter->d2l==0.17.0) (1.0.18)\n",
            "Requirement already satisfied: pexpect in /usr/local/lib/python3.7/dist-packages (from ipython>=4.0.0->ipykernel->jupyter->d2l==0.17.0) (4.8.0)\n",
            "Requirement already satisfied: wcwidth in /usr/local/lib/python3.7/dist-packages (from prompt-toolkit<2.0.0,>=1.0.4->ipython>=4.0.0->ipykernel->jupyter->d2l==0.17.0) (0.2.5)\n",
            "Requirement already satisfied: six>=1.9.0 in /usr/local/lib/python3.7/dist-packages (from prompt-toolkit<2.0.0,>=1.0.4->ipython>=4.0.0->ipykernel->jupyter->d2l==0.17.0) (1.15.0)\n",
            "Requirement already satisfied: widgetsnbextension~=3.5.0 in /usr/local/lib/python3.7/dist-packages (from ipywidgets->jupyter->d2l==0.17.0) (3.5.1)\n",
            "Requirement already satisfied: ipython-genutils~=0.2.0 in /usr/local/lib/python3.7/dist-packages (from ipywidgets->jupyter->d2l==0.17.0) (0.2.0)\n",
            "Requirement already satisfied: jupyterlab-widgets>=1.0.0 in /usr/local/lib/python3.7/dist-packages (from ipywidgets->jupyter->d2l==0.17.0) (1.0.2)\n",
            "Requirement already satisfied: nbformat>=4.2.0 in /usr/local/lib/python3.7/dist-packages (from ipywidgets->jupyter->d2l==0.17.0) (5.1.3)\n",
            "Requirement already satisfied: jupyter-core in /usr/local/lib/python3.7/dist-packages (from nbformat>=4.2.0->ipywidgets->jupyter->d2l==0.17.0) (4.7.1)\n",
            "Requirement already satisfied: jsonschema!=2.5.0,>=2.4 in /usr/local/lib/python3.7/dist-packages (from nbformat>=4.2.0->ipywidgets->jupyter->d2l==0.17.0) (2.6.0)\n",
            "Requirement already satisfied: Send2Trash in /usr/local/lib/python3.7/dist-packages (from notebook->jupyter->d2l==0.17.0) (1.8.0)\n",
            "Requirement already satisfied: terminado>=0.8.1 in /usr/local/lib/python3.7/dist-packages (from notebook->jupyter->d2l==0.17.0) (0.12.1)\n",
            "Requirement already satisfied: jinja2 in /usr/local/lib/python3.7/dist-packages (from notebook->jupyter->d2l==0.17.0) (2.11.3)\n",
            "Requirement already satisfied: python-dateutil>=2.1 in /usr/local/lib/python3.7/dist-packages (from jupyter-client->ipykernel->jupyter->d2l==0.17.0) (2.8.2)\n",
            "Requirement already satisfied: pyzmq>=13 in /usr/local/lib/python3.7/dist-packages (from jupyter-client->ipykernel->jupyter->d2l==0.17.0) (22.2.1)\n",
            "Requirement already satisfied: ptyprocess in /usr/local/lib/python3.7/dist-packages (from terminado>=0.8.1->notebook->jupyter->d2l==0.17.0) (0.7.0)\n",
            "Requirement already satisfied: MarkupSafe>=0.23 in /usr/local/lib/python3.7/dist-packages (from jinja2->notebook->jupyter->d2l==0.17.0) (2.0.1)\n",
            "Requirement already satisfied: kiwisolver>=1.0.1 in /usr/local/lib/python3.7/dist-packages (from matplotlib->d2l==0.17.0) (1.3.2)\n",
            "Requirement already satisfied: cycler>=0.10 in /usr/local/lib/python3.7/dist-packages (from matplotlib->d2l==0.17.0) (0.10.0)\n",
            "Requirement already satisfied: pyparsing!=2.0.4,!=2.1.2,!=2.1.6,>=2.0.1 in /usr/local/lib/python3.7/dist-packages (from matplotlib->d2l==0.17.0) (2.4.7)\n",
            "Requirement already satisfied: mistune<2,>=0.8.1 in /usr/local/lib/python3.7/dist-packages (from nbconvert->jupyter->d2l==0.17.0) (0.8.4)\n",
            "Requirement already satisfied: testpath in /usr/local/lib/python3.7/dist-packages (from nbconvert->jupyter->d2l==0.17.0) (0.5.0)\n",
            "Requirement already satisfied: entrypoints>=0.2.2 in /usr/local/lib/python3.7/dist-packages (from nbconvert->jupyter->d2l==0.17.0) (0.3)\n",
            "Requirement already satisfied: defusedxml in /usr/local/lib/python3.7/dist-packages (from nbconvert->jupyter->d2l==0.17.0) (0.7.1)\n",
            "Requirement already satisfied: bleach in /usr/local/lib/python3.7/dist-packages (from nbconvert->jupyter->d2l==0.17.0) (4.1.0)\n",
            "Requirement already satisfied: pandocfilters>=1.4.1 in /usr/local/lib/python3.7/dist-packages (from nbconvert->jupyter->d2l==0.17.0) (1.5.0)\n",
            "Requirement already satisfied: packaging in /usr/local/lib/python3.7/dist-packages (from bleach->nbconvert->jupyter->d2l==0.17.0) (21.0)\n",
            "Requirement already satisfied: webencodings in /usr/local/lib/python3.7/dist-packages (from bleach->nbconvert->jupyter->d2l==0.17.0) (0.5.1)\n",
            "Requirement already satisfied: pytz>=2017.2 in /usr/local/lib/python3.7/dist-packages (from pandas->d2l==0.17.0) (2018.9)\n",
            "Requirement already satisfied: qtpy in /usr/local/lib/python3.7/dist-packages (from qtconsole->jupyter->d2l==0.17.0) (1.11.1)\n",
            "Requirement already satisfied: chardet<4,>=3.0.2 in /usr/local/lib/python3.7/dist-packages (from requests->d2l==0.17.0) (3.0.4)\n",
            "Requirement already satisfied: urllib3!=1.25.0,!=1.25.1,<1.26,>=1.21.1 in /usr/local/lib/python3.7/dist-packages (from requests->d2l==0.17.0) (1.24.3)\n",
            "Requirement already satisfied: certifi>=2017.4.17 in /usr/local/lib/python3.7/dist-packages (from requests->d2l==0.17.0) (2021.5.30)\n",
            "Requirement already satisfied: idna<3,>=2.5 in /usr/local/lib/python3.7/dist-packages (from requests->d2l==0.17.0) (2.10)\n",
            "Installing collected packages: d2l\n",
            "Successfully installed d2l-0.17.0\n",
            "Collecting mxnet-cu101==1.7.0\n",
            "  Downloading mxnet_cu101-1.7.0-py2.py3-none-manylinux2014_x86_64.whl (846.0 MB)\n",
            "\u001b[K     |███████████████████████████████▌| 834.1 MB 1.2 MB/s eta 0:00:10tcmalloc: large alloc 1147494400 bytes == 0x55720d2a8000 @  0x7f456de71615 0x5571d31794cc 0x5571d325947a 0x5571d317c2ed 0x5571d326de1d 0x5571d31efe99 0x5571d31ea9ee 0x5571d317dbda 0x5571d31efd00 0x5571d31ea9ee 0x5571d317dbda 0x5571d31ec737 0x5571d326ec66 0x5571d31ebdaf 0x5571d326ec66 0x5571d31ebdaf 0x5571d326ec66 0x5571d31ebdaf 0x5571d317e039 0x5571d31c1409 0x5571d317cc52 0x5571d31efc25 0x5571d31ea9ee 0x5571d317dbda 0x5571d31ec737 0x5571d31ea9ee 0x5571d317dbda 0x5571d31eb915 0x5571d317dafa 0x5571d31ebc0d 0x5571d31ea9ee\n",
            "\u001b[K     |████████████████████████████████| 846.0 MB 20 kB/s \n",
            "\u001b[?25hCollecting graphviz<0.9.0,>=0.8.1\n",
            "  Downloading graphviz-0.8.4-py2.py3-none-any.whl (16 kB)\n",
            "Requirement already satisfied: requests<3,>=2.20.0 in /usr/local/lib/python3.7/dist-packages (from mxnet-cu101==1.7.0) (2.23.0)\n",
            "Requirement already satisfied: numpy<2.0.0,>1.16.0 in /usr/local/lib/python3.7/dist-packages (from mxnet-cu101==1.7.0) (1.19.5)\n",
            "Requirement already satisfied: certifi>=2017.4.17 in /usr/local/lib/python3.7/dist-packages (from requests<3,>=2.20.0->mxnet-cu101==1.7.0) (2021.5.30)\n",
            "Requirement already satisfied: urllib3!=1.25.0,!=1.25.1,<1.26,>=1.21.1 in /usr/local/lib/python3.7/dist-packages (from requests<3,>=2.20.0->mxnet-cu101==1.7.0) (1.24.3)\n",
            "Requirement already satisfied: idna<3,>=2.5 in /usr/local/lib/python3.7/dist-packages (from requests<3,>=2.20.0->mxnet-cu101==1.7.0) (2.10)\n",
            "Requirement already satisfied: chardet<4,>=3.0.2 in /usr/local/lib/python3.7/dist-packages (from requests<3,>=2.20.0->mxnet-cu101==1.7.0) (3.0.4)\n",
            "Installing collected packages: graphviz, mxnet-cu101\n",
            "  Attempting uninstall: graphviz\n",
            "    Found existing installation: graphviz 0.10.1\n",
            "    Uninstalling graphviz-0.10.1:\n",
            "      Successfully uninstalled graphviz-0.10.1\n",
            "Successfully installed graphviz-0.8.4 mxnet-cu101-1.7.0\n"
          ]
        }
      ]
    },
    {
      "cell_type": "markdown",
      "metadata": {
        "id": "lXekW5kER-jT"
      },
      "source": [
        "**Import Required Models And Libararies**"
      ]
    },
    {
      "cell_type": "code",
      "metadata": {
        "colab": {
          "base_uri": "https://localhost:8080/"
        },
        "id": "52AuMJ5laecV",
        "outputId": "44895416-5fce-4611-a93a-bf217a0ed862"
      },
      "source": [
        "import numpy as np\n",
        "from keras.models import Sequential\n",
        "from keras.layers import Dense, Activation, Dropout\n",
        "from tensorflow import keras\n",
        "from tensorflow.keras import layers\n",
        "from tensorflow.keras.optimizers import Adam, SGD, RMSprop\n",
        "import random\n",
        "import nltk\n",
        "nltk.download('punkt')\n",
        "nltk.download('wordnet')\n",
        "from nltk.stem import WordNetLemmatizer\n",
        "lemmatizer = WordNetLemmatizer()\n",
        "import json\n",
        "import pickle"
      ],
      "execution_count": 4,
      "outputs": [
        {
          "output_type": "stream",
          "name": "stdout",
          "text": [
            "[nltk_data] Downloading package punkt to /root/nltk_data...\n",
            "[nltk_data]   Unzipping tokenizers/punkt.zip.\n",
            "[nltk_data] Downloading package wordnet to /root/nltk_data...\n",
            "[nltk_data]   Unzipping corpora/wordnet.zip.\n"
          ]
        }
      ]
    },
    {
      "cell_type": "markdown",
      "metadata": {
        "id": "koFdovbtSQB0"
      },
      "source": [
        "**Import Dataset File**"
      ]
    },
    {
      "cell_type": "code",
      "metadata": {
        "id": "J81Ogj74czkn"
      },
      "source": [
        "#Load and Read Intents.json file from My Drive\n",
        "intents_file = open('/content/drive/MyDrive/Colab Notebooks/intents.json').read()\n",
        "intents = json.loads(intents_file)"
      ],
      "execution_count": 5,
      "outputs": []
    },
    {
      "cell_type": "markdown",
      "metadata": {
        "id": "NKmV0THYSicw"
      },
      "source": [
        "**Tokenization, Corpus And Classes List**"
      ]
    },
    {
      "cell_type": "code",
      "metadata": {
        "colab": {
          "base_uri": "https://localhost:8080/"
        },
        "id": "JNmdDBZFfvfW",
        "outputId": "5a7ec2f3-8c7e-4273-c402-84faecb01a20"
      },
      "source": [
        "#Declare Some Lists\n",
        "words=[]\n",
        "classes = []\n",
        "documents = []\n",
        "ignore_letters = ['!', '?', ',', '.']\n",
        "for intent in intents['intents']:\n",
        "    for pattern in intent['patterns']:\n",
        "        #Tokenize Each Word\n",
        "        word = nltk.word_tokenize(pattern)\n",
        "        words.extend(word)        \n",
        "        #Add Documents in the Corpus\n",
        "        documents.append((word, intent['tag']))\n",
        "        #Add to our Classes List\n",
        "        if intent['tag'] not in classes:\n",
        "            classes.append(intent['tag'])\n",
        "print(documents)"
      ],
      "execution_count": 6,
      "outputs": [
        {
          "output_type": "stream",
          "name": "stdout",
          "text": [
            "[(['Hi'], 'greeting'), (['How', 'are', 'you'], 'greeting'), (['Is', 'anyone', 'there', '?'], 'greeting'), (['Hello'], 'greeting'), (['Good', 'day'], 'greeting'), (['Bye'], 'goodbye'), (['See', 'you', 'later'], 'goodbye'), (['Goodbye'], 'goodbye'), (['Thanks'], 'thanks'), (['Thank', 'you'], 'thanks'), (['That', \"'s\", 'helpful'], 'thanks'), (['What', 'hours', 'are', 'you', 'open', '?'], 'hours'), (['What', 'are', 'your', 'hours', '?'], 'hours'), (['When', 'are', 'you', 'open', '?'], 'hours'), (['When', 'is', 'the', 'time', 'to', 'contact', '?'], 'hours'), (['At', 'what', 'time', 'do', 'you', 'provide', 'services', '?'], 'hours'), (['What', 'is', 'your', 'location', '?'], 'location'), (['Where', 'are', 'you', 'located', '?'], 'location'), (['What', 'is', 'your', 'address', '?'], 'location'), (['Where', 'is', 'your', 'company', 'situated', '?'], 'location'), (['How', 'can', 'we', 'contact', 'you', '?'], 'location'), (['How', 'can', 'I', 'contact', 'you', '?'], 'location'), (['Do', 'you', 'take', 'credit', 'cards', '?'], 'payments'), (['Do', 'you', 'accept', 'Mastercard', '?'], 'payments'), (['Are', 'you', 'cash', 'only', '?'], 'payments'), (['Which', 'credit', 'cards', 'do', 'you', 'accept', '?'], 'payments'), (['What', 'are', 'the', 'services', 'that', 'you', 'provide', '?'], 'services'), (['Which', 'services', 'do', 'you', 'provide', '?'], 'services'), (['How', 'can', 'you', 'help', 'us', '?'], 'services'), (['What', 'can', 'you', 'do', '?'], 'services'), (['Do', 'you', 'provide', 'industrial', 'training', '?'], 'training'), (['Do', 'you', 'deliver', 'webinars', 'on', 'cybersecurity', '?'], 'training'), (['Do', 'you', 'provide', 'Summer', 'training', '?'], 'training'), (['Do', 'you', 'conduct', 'workshops', '?'], 'training'), (['What', 'is', 'mean', 'by', 'cryptography', '?'], 'Cryptography'), (['What', 'is', 'Cryptography', '?'], 'Cryptography'), (['What', 'is', 'a', 'Firewall', 'and', 'why', 'is', 'it', 'used', '?'], 'Firewall'), (['what', 'is', 'firewall', '?'], 'Firewall'), (['what', 'firewall', 'does', '?'], 'Firewall'), (['What', 'is', 'Penetration', 'Testing', '?'], 'Penetration Testing'), (['explain', 'Penetration', 'Testing', '?'], 'Penetration Testing'), (['What', 'is', 'in', 'cyber', 'security', '?'], 'Penetration Testing'), (['What', 'is', 'Vulnerability', 'Assessment', '?'], 'Vulnerability Assessment'), (['explain', 'Vulnerability', 'Assessment', '?'], 'Vulnerability Assessment'), (['What', 'is', 'VA', 'in', 'cyber', 'security', '?'], 'Vulnerability Assessment'), (['What', 'is', 'traceroute', '?'], 'traceroute'), (['explain', 'traceroute', '?'], 'traceroute'), (['What', 'is', 'a', 'VPN', '?'], 'VPN'), (['explain', 'vpn', '?'], 'VPN'), (['why', 'vpn', 'is', 'used', '?'], 'VPN'), (['what', 'are', 'black', 'hat', 'hackers', '?'], 'black hat hackers'), (['black', 'hat', 'hackers', '?'], 'black hat hackers'), (['what', 'are', 'White', 'hat', 'hackers', '?'], 'White hat hackers'), (['ethical', 'hackers', '?'], 'White hat hackers'), (['what', 'are', 'Grey', 'hat', 'hackers', '?'], 'Grey hat hackers'), (['Grey', 'hat', 'hackers', '?'], 'Grey hat hackers'), (['What', 'is', 'an', 'ARP', 'and', 'how', 'does', 'it', 'work', '?'], 'ARP'), (['what', 'is', 'ARP', '?'], 'ARP'), (['arp', 'in', 'cyber', 'security', '?'], 'ARP'), (['What', 'is', 'a', 'Botnet', '?'], 'Botnet'), (['Bonet', '?'], 'Botnet'), (['ssl', '?'], 'Secure Sockets Layers'), (['explain', 'ssl', '?'], 'Secure Sockets Layers'), (['What', 'is', 'ssl', '?'], 'Secure Sockets Layers'), (['tls', '?'], 'Transport Layer Security'), (['explain', 'tls', '?'], 'Transport Layer Security'), (['What', 'is', 'tls', '?'], 'Transport Layer Security'), (['What', 'is', 'Cognitive', 'Cybersecurity', '?'], 'Cognitive Cybersecurity'), (['explain', 'Cognitive', 'Cybersecurity', '?'], 'Cognitive Cybersecurity'), (['Cognitive', 'Cybersecurity', '?'], 'Cognitive Cybersecurity'), (['How', 'is', 'Encryption', 'different', 'from', 'Hashing', '?'], 'Encryption different from Hashing'), (['Encryption', 'different', 'from', 'Hashing', '?'], 'Encryption different from Hashing'), (['What', 'is', 'encryption', '?'], 'encryption'), (['encryption', '?'], 'encryption'), (['explain', 'encryption', '?'], 'encryption'), (['What', 'is', 'Decryption', '?'], 'Decryption'), (['Decryption', '?'], 'Decryption'), (['explain', 'Decryption', '?'], 'Decryption'), (['What', 'is', 'Hashing', '?'], 'Hashing'), (['Hashing', '?'], 'Hashing'), (['explain', 'Hashing', '?'], 'Hashing'), (['what', 'is', 'cybersecurity', '?'], 'cybersecurity'), (['cybersecurity', '?'], 'cybersecurity'), (['What', 'is', 'forward', 'secrecy', '?'], 'Forward Secrecy'), (['Forward', 'Secrecy', '?'], 'Forward Secrecy'), (['what', 'is', 'boot', 'sector', 'virus', '?'], 'boot sector virus'), (['how', 'boot', 'sector', 'virus', 'effects', '?'], 'boot sector virus'), (['what', 'is', 'direct', 'action', 'virus', '?'], 'direct action virus'), (['how', 'direct', 'action', 'virus', 'effects', '?'], 'direct action virus'), (['what', 'is', 'resident', 'virus', '?'], 'resident virus'), (['how', 'resident', 'virus', 'effects', '?'], 'resident virus'), (['what', 'is', 'multipartite', 'virus', '?'], 'multipartite virus'), (['how', 'multipartite', 'virus', 'effects', '?'], 'multipartite virus'), (['what', 'is', 'spacefiller', 'virus', '?'], 'spacefiller virus'), (['how', 'spacefiller', 'virus', 'effects', '?'], 'spacefiller virus'), (['Do', 'you', 'provide', 'home', 'delivery', '?'], ' file infector virus'), (['Do', 'you', 'deliver', 'the', 'food', '?'], ' file infector virus'), (['What', 'are', 'the', 'home', 'delivery', 'options', '?'], ' file infector virus'), (['what', 'is', 'computer', 'virus', '?'], 'computer virus'), (['What', 'do', 'you', 'mean', 'by', 'computer', 'virus', '?'], 'computer virus'), (['Define', 'Computer', 'Virus'], 'computer virus'), (['Important', 'Features', 'of', 'a', 'Cybersecurity', '?'], 'Features of a Cybersecurity'), (['Why', 'we', 'need', 'CyberSecurity', '?'], 'Features of a Cybersecurity'), (['Whta', 'are', 'features', 'of', 'CyberSecurity', '?'], 'Features of a Cybersecurity'), (['What', 'are', 'the', 'Benefits', 'of', 'cybersecurity', '?'], 'Benefits of cybersecurity'), (['uses', 'of', 'cyber', 'security', '?'], 'Benefits of cybersecurity')]\n"
          ]
        }
      ]
    },
    {
      "cell_type": "markdown",
      "metadata": {
        "id": "TLkVW0PlSf7o"
      },
      "source": [
        "**Lemmaztize, Duplicates, Sorting, Vocabulary,Combinations**"
      ]
    },
    {
      "cell_type": "code",
      "metadata": {
        "colab": {
          "base_uri": "https://localhost:8080/"
        },
        "id": "6uPU_r9rgdGD",
        "outputId": "349f2368-bb04-4c19-fd29-120b95668b1d"
      },
      "source": [
        "#Lemmaztize and Lower each Word and Remove Duplicates\n",
        "words = [lemmatizer.lemmatize(w.lower()) for w in words if w not in ignore_letters]\n",
        "words = sorted(list(set(words)))\n",
        "#Sort Classes\n",
        "classes = sorted(list(set(classes)))\n",
        "# Intents, Documents\n",
        "print (len(documents), \"documents\")\n",
        "# Intents, Classes\n",
        "print (len(classes), \"classes\", classes)\n",
        "# Words = All words, Vocabulary\n",
        "print (len(words), \"unique lemmatized words\", words)\n",
        "pickle.dump(words,open('words.pkl','wb'))\n",
        "pickle.dump(classes,open('classes.pkl','wb'))"
      ],
      "execution_count": 7,
      "outputs": [
        {
          "output_type": "stream",
          "name": "stdout",
          "text": [
            "106 documents\n",
            "37 classes [' file infector virus', 'ARP', 'Benefits of cybersecurity', 'Botnet', 'Cognitive Cybersecurity', 'Cryptography', 'Decryption', 'Encryption different from Hashing', 'Features of a Cybersecurity', 'Firewall', 'Forward Secrecy', 'Grey hat hackers', 'Hashing', 'Penetration Testing', 'Secure Sockets Layers', 'Transport Layer Security', 'VPN', 'Vulnerability Assessment', 'White hat hackers', 'black hat hackers', 'boot sector virus', 'computer virus', 'cybersecurity', 'direct action virus', 'encryption', 'goodbye', 'greeting', 'hours', 'location', 'multipartite virus', 'payments', 'resident virus', 'services', 'spacefiller virus', 'thanks', 'traceroute', 'training']\n",
            "124 unique lemmatized words [\"'s\", 'a', 'accept', 'action', 'address', 'an', 'and', 'anyone', 'are', 'arp', 'assessment', 'at', 'benefit', 'black', 'bonet', 'boot', 'botnet', 'by', 'bye', 'can', 'card', 'cash', 'cognitive', 'company', 'computer', 'conduct', 'contact', 'credit', 'cryptography', 'cyber', 'cybersecurity', 'day', 'decryption', 'define', 'deliver', 'delivery', 'different', 'direct', 'do', 'doe', 'effect', 'encryption', 'ethical', 'explain', 'feature', 'firewall', 'food', 'forward', 'from', 'good', 'goodbye', 'grey', 'hacker', 'hashing', 'hat', 'hello', 'help', 'helpful', 'hi', 'home', 'hour', 'how', 'i', 'important', 'in', 'industrial', 'is', 'it', 'later', 'located', 'location', 'mastercard', 'mean', 'multipartite', 'need', 'of', 'on', 'only', 'open', 'option', 'penetration', 'provide', 'resident', 'secrecy', 'sector', 'security', 'see', 'service', 'situated', 'spacefiller', 'ssl', 'summer', 'take', 'testing', 'thank', 'thanks', 'that', 'the', 'there', 'time', 'tl', 'to', 'traceroute', 'training', 'u', 'us', 'used', 'va', 'virus', 'vpn', 'vulnerability', 'we', 'webinars', 'what', 'when', 'where', 'which', 'white', 'whta', 'why', 'work', 'workshop', 'you', 'your']\n"
          ]
        }
      ]
    },
    {
      "cell_type": "markdown",
      "metadata": {
        "id": "CFaGuc83Tbbh"
      },
      "source": [
        "**Training Data,Empty Array for output, Numpy Array and Testing**"
      ]
    },
    {
      "cell_type": "code",
      "metadata": {
        "colab": {
          "base_uri": "https://localhost:8080/"
        },
        "id": "BCZZVWgimjl4",
        "outputId": "f8cb25e2-c27f-4ab9-93d7-60d9e0f44ed8"
      },
      "source": [
        "# Training data\n",
        "training = []\n",
        "# Empty array for the output\n",
        "output_empty = [0] * len(classes)\n",
        "# Training set, bag of words for every sentence\n",
        "for doc in documents:\n",
        "    # Bag of words\n",
        "    bag = []\n",
        "    # list of tokenized words for the pattern\n",
        "    word_patterns = doc[0]\n",
        "    # lemmatize each word - create base word, in attempt to represent related words\n",
        "    word_patterns = [lemmatizer.lemmatize(word.lower()) for word in word_patterns]\n",
        "    # Create the bag of words array with 1, if word is found in current pattern\n",
        "    for word in words:\n",
        "        bag.append(1) if word in word_patterns else bag.append(0)\n",
        "    # output is a '0' for each tag and '1' for current tag (for each pattern)\n",
        "    output_row = list(output_empty)\n",
        "    output_row[classes.index(doc[1])] = 1\n",
        "    training.append([bag, output_row])\n",
        "# shuffling and Numpy array\n",
        "random.shuffle(training)\n",
        "training = np.array(training)\n",
        "# Training and Testing\n",
        "train_x = list(training[:,0])\n",
        "train_y = list(training[:,1])\n",
        "print(\"Training data is created\")"
      ],
      "execution_count": 8,
      "outputs": [
        {
          "output_type": "stream",
          "name": "stdout",
          "text": [
            "Training data is created\n"
          ]
        },
        {
          "output_type": "stream",
          "name": "stderr",
          "text": [
            "/usr/local/lib/python3.7/dist-packages/ipykernel_launcher.py:22: VisibleDeprecationWarning: Creating an ndarray from ragged nested sequences (which is a list-or-tuple of lists-or-tuples-or ndarrays with different lengths or shapes) is deprecated. If you meant to do this, you must specify 'dtype=object' when creating the ndarray\n"
          ]
        }
      ]
    },
    {
      "cell_type": "markdown",
      "metadata": {
        "id": "dMGz1fZdUOfV"
      },
      "source": [
        "**Deep Learning Model, Training and Seving**"
      ]
    },
    {
      "cell_type": "code",
      "metadata": {
        "colab": {
          "base_uri": "https://localhost:8080/"
        },
        "id": "5XMnC-3RnMia",
        "outputId": "f08a38ac-ea05-454b-8d7f-113afbda7a51"
      },
      "source": [
        "#Deep Neural Networds Model\n",
        "#Relu and Softmax Activation Function\n",
        "model = Sequential()\n",
        "model.add(Dense(128, input_shape=(len(train_x[0]),), activation='relu'))\n",
        "model.add(Dropout(0.5))\n",
        "model.add(Dense(64, activation='relu'))\n",
        "model.add(Dropout(0.5))\n",
        "model.add(Dense(len(train_y[0]), activation='softmax'))\n",
        "# Compiling model. SGD with Nesterov accelerated gradient gives good results for this model\n",
        "sgd = SGD(lr=0.01, decay=1e-6, momentum=0.9, nesterov=True)\n",
        "model.compile(loss='categorical_crossentropy', optimizer=sgd, metrics=['accuracy'])\n",
        "#Training with 200 epoches and saving the model \n",
        "hist = model.fit(np.array(train_x), np.array(train_y), epochs=200, batch_size=5, verbose=1)\n",
        "model.save('/content/drive/MyDrive/Colab Notebooks/chatbot_model.h5', hist)\n",
        "print(\"model is created\")"
      ],
      "execution_count": 9,
      "outputs": [
        {
          "output_type": "stream",
          "name": "stderr",
          "text": [
            "/usr/local/lib/python3.7/dist-packages/keras/optimizer_v2/optimizer_v2.py:356: UserWarning: The `lr` argument is deprecated, use `learning_rate` instead.\n",
            "  \"The `lr` argument is deprecated, use `learning_rate` instead.\")\n"
          ]
        },
        {
          "output_type": "stream",
          "name": "stdout",
          "text": [
            "Epoch 1/200\n",
            "22/22 [==============================] - 1s 3ms/step - loss: 3.6524 - accuracy: 0.0283\n",
            "Epoch 2/200\n",
            "22/22 [==============================] - 0s 1ms/step - loss: 3.5470 - accuracy: 0.0472\n",
            "Epoch 3/200\n",
            "22/22 [==============================] - 0s 1ms/step - loss: 3.5084 - accuracy: 0.0660\n",
            "Epoch 4/200\n",
            "22/22 [==============================] - 0s 1ms/step - loss: 3.4957 - accuracy: 0.0943\n",
            "Epoch 5/200\n",
            "22/22 [==============================] - 0s 1ms/step - loss: 3.3650 - accuracy: 0.0849\n",
            "Epoch 6/200\n",
            "22/22 [==============================] - 0s 2ms/step - loss: 3.2994 - accuracy: 0.1415\n",
            "Epoch 7/200\n",
            "22/22 [==============================] - 0s 1ms/step - loss: 3.2464 - accuracy: 0.1604\n",
            "Epoch 8/200\n",
            "22/22 [==============================] - 0s 1ms/step - loss: 3.0048 - accuracy: 0.1887\n",
            "Epoch 9/200\n",
            "22/22 [==============================] - 0s 2ms/step - loss: 2.9919 - accuracy: 0.1887\n",
            "Epoch 10/200\n",
            "22/22 [==============================] - 0s 2ms/step - loss: 2.9036 - accuracy: 0.2358\n",
            "Epoch 11/200\n",
            "22/22 [==============================] - 0s 2ms/step - loss: 2.7065 - accuracy: 0.3208\n",
            "Epoch 12/200\n",
            "22/22 [==============================] - 0s 1ms/step - loss: 2.7278 - accuracy: 0.2925\n",
            "Epoch 13/200\n",
            "22/22 [==============================] - 0s 2ms/step - loss: 2.6263 - accuracy: 0.3113\n",
            "Epoch 14/200\n",
            "22/22 [==============================] - 0s 1ms/step - loss: 2.4850 - accuracy: 0.3302\n",
            "Epoch 15/200\n",
            "22/22 [==============================] - 0s 2ms/step - loss: 2.4341 - accuracy: 0.3208\n",
            "Epoch 16/200\n",
            "22/22 [==============================] - 0s 1ms/step - loss: 2.2051 - accuracy: 0.4245\n",
            "Epoch 17/200\n",
            "22/22 [==============================] - 0s 2ms/step - loss: 2.2423 - accuracy: 0.3585\n",
            "Epoch 18/200\n",
            "22/22 [==============================] - 0s 1ms/step - loss: 2.1772 - accuracy: 0.4057\n",
            "Epoch 19/200\n",
            "22/22 [==============================] - 0s 2ms/step - loss: 1.8914 - accuracy: 0.5566\n",
            "Epoch 20/200\n",
            "22/22 [==============================] - 0s 2ms/step - loss: 1.8292 - accuracy: 0.5000\n",
            "Epoch 21/200\n",
            "22/22 [==============================] - 0s 1ms/step - loss: 1.9285 - accuracy: 0.4434\n",
            "Epoch 22/200\n",
            "22/22 [==============================] - 0s 2ms/step - loss: 1.6849 - accuracy: 0.5472\n",
            "Epoch 23/200\n",
            "22/22 [==============================] - 0s 2ms/step - loss: 1.6985 - accuracy: 0.5566\n",
            "Epoch 24/200\n",
            "22/22 [==============================] - 0s 1ms/step - loss: 1.3103 - accuracy: 0.7075\n",
            "Epoch 25/200\n",
            "22/22 [==============================] - 0s 2ms/step - loss: 1.2352 - accuracy: 0.6887\n",
            "Epoch 26/200\n",
            "22/22 [==============================] - 0s 2ms/step - loss: 1.2810 - accuracy: 0.6604\n",
            "Epoch 27/200\n",
            "22/22 [==============================] - 0s 1ms/step - loss: 1.1955 - accuracy: 0.6792\n",
            "Epoch 28/200\n",
            "22/22 [==============================] - 0s 2ms/step - loss: 1.1636 - accuracy: 0.6698\n",
            "Epoch 29/200\n",
            "22/22 [==============================] - 0s 2ms/step - loss: 1.0239 - accuracy: 0.7075\n",
            "Epoch 30/200\n",
            "22/22 [==============================] - 0s 2ms/step - loss: 1.0841 - accuracy: 0.7642\n",
            "Epoch 31/200\n",
            "22/22 [==============================] - 0s 2ms/step - loss: 1.0139 - accuracy: 0.7358\n",
            "Epoch 32/200\n",
            "22/22 [==============================] - 0s 1ms/step - loss: 1.0396 - accuracy: 0.6981\n",
            "Epoch 33/200\n",
            "22/22 [==============================] - 0s 2ms/step - loss: 0.8342 - accuracy: 0.7358\n",
            "Epoch 34/200\n",
            "22/22 [==============================] - 0s 3ms/step - loss: 1.0546 - accuracy: 0.7264\n",
            "Epoch 35/200\n",
            "22/22 [==============================] - 0s 2ms/step - loss: 0.9831 - accuracy: 0.7453\n",
            "Epoch 36/200\n",
            "22/22 [==============================] - 0s 2ms/step - loss: 0.7143 - accuracy: 0.8396\n",
            "Epoch 37/200\n",
            "22/22 [==============================] - 0s 2ms/step - loss: 0.8454 - accuracy: 0.7358\n",
            "Epoch 38/200\n",
            "22/22 [==============================] - 0s 2ms/step - loss: 0.7812 - accuracy: 0.7170\n",
            "Epoch 39/200\n",
            "22/22 [==============================] - 0s 2ms/step - loss: 0.7848 - accuracy: 0.7736\n",
            "Epoch 40/200\n",
            "22/22 [==============================] - 0s 2ms/step - loss: 0.7830 - accuracy: 0.8019\n",
            "Epoch 41/200\n",
            "22/22 [==============================] - 0s 1ms/step - loss: 0.7017 - accuracy: 0.7830\n",
            "Epoch 42/200\n",
            "22/22 [==============================] - 0s 2ms/step - loss: 0.6663 - accuracy: 0.7830\n",
            "Epoch 43/200\n",
            "22/22 [==============================] - 0s 2ms/step - loss: 0.6852 - accuracy: 0.8113\n",
            "Epoch 44/200\n",
            "22/22 [==============================] - 0s 2ms/step - loss: 0.7024 - accuracy: 0.8113\n",
            "Epoch 45/200\n",
            "22/22 [==============================] - 0s 2ms/step - loss: 0.6727 - accuracy: 0.8019\n",
            "Epoch 46/200\n",
            "22/22 [==============================] - 0s 2ms/step - loss: 0.5537 - accuracy: 0.8396\n",
            "Epoch 47/200\n",
            "22/22 [==============================] - 0s 2ms/step - loss: 0.5507 - accuracy: 0.8302\n",
            "Epoch 48/200\n",
            "22/22 [==============================] - 0s 2ms/step - loss: 0.4875 - accuracy: 0.8679\n",
            "Epoch 49/200\n",
            "22/22 [==============================] - 0s 2ms/step - loss: 0.5900 - accuracy: 0.8113\n",
            "Epoch 50/200\n",
            "22/22 [==============================] - 0s 2ms/step - loss: 0.5736 - accuracy: 0.8585\n",
            "Epoch 51/200\n",
            "22/22 [==============================] - 0s 2ms/step - loss: 0.6350 - accuracy: 0.8208\n",
            "Epoch 52/200\n",
            "22/22 [==============================] - 0s 2ms/step - loss: 0.5470 - accuracy: 0.8585\n",
            "Epoch 53/200\n",
            "22/22 [==============================] - 0s 2ms/step - loss: 0.5493 - accuracy: 0.8491\n",
            "Epoch 54/200\n",
            "22/22 [==============================] - 0s 2ms/step - loss: 0.4310 - accuracy: 0.8962\n",
            "Epoch 55/200\n",
            "22/22 [==============================] - 0s 2ms/step - loss: 0.5323 - accuracy: 0.8679\n",
            "Epoch 56/200\n",
            "22/22 [==============================] - 0s 2ms/step - loss: 0.3922 - accuracy: 0.9057\n",
            "Epoch 57/200\n",
            "22/22 [==============================] - 0s 2ms/step - loss: 0.4502 - accuracy: 0.8585\n",
            "Epoch 58/200\n",
            "22/22 [==============================] - 0s 2ms/step - loss: 0.4147 - accuracy: 0.8585\n",
            "Epoch 59/200\n",
            "22/22 [==============================] - 0s 2ms/step - loss: 0.3817 - accuracy: 0.8962\n",
            "Epoch 60/200\n",
            "22/22 [==============================] - 0s 2ms/step - loss: 0.4337 - accuracy: 0.8774\n",
            "Epoch 61/200\n",
            "22/22 [==============================] - 0s 2ms/step - loss: 0.4219 - accuracy: 0.8962\n",
            "Epoch 62/200\n",
            "22/22 [==============================] - 0s 1ms/step - loss: 0.3969 - accuracy: 0.9151\n",
            "Epoch 63/200\n",
            "22/22 [==============================] - 0s 1ms/step - loss: 0.3805 - accuracy: 0.8868\n",
            "Epoch 64/200\n",
            "22/22 [==============================] - 0s 2ms/step - loss: 0.4224 - accuracy: 0.8774\n",
            "Epoch 65/200\n",
            "22/22 [==============================] - 0s 2ms/step - loss: 0.4006 - accuracy: 0.8679\n",
            "Epoch 66/200\n",
            "22/22 [==============================] - 0s 1ms/step - loss: 0.4246 - accuracy: 0.8396\n",
            "Epoch 67/200\n",
            "22/22 [==============================] - 0s 2ms/step - loss: 0.3749 - accuracy: 0.8585\n",
            "Epoch 68/200\n",
            "22/22 [==============================] - 0s 2ms/step - loss: 0.2546 - accuracy: 0.8962\n",
            "Epoch 69/200\n",
            "22/22 [==============================] - 0s 2ms/step - loss: 0.4763 - accuracy: 0.8491\n",
            "Epoch 70/200\n",
            "22/22 [==============================] - 0s 1ms/step - loss: 0.4581 - accuracy: 0.8774\n",
            "Epoch 71/200\n",
            "22/22 [==============================] - 0s 2ms/step - loss: 0.3219 - accuracy: 0.8962\n",
            "Epoch 72/200\n",
            "22/22 [==============================] - 0s 2ms/step - loss: 0.3748 - accuracy: 0.8679\n",
            "Epoch 73/200\n",
            "22/22 [==============================] - 0s 2ms/step - loss: 0.2494 - accuracy: 0.9623\n",
            "Epoch 74/200\n",
            "22/22 [==============================] - 0s 2ms/step - loss: 0.3067 - accuracy: 0.9245\n",
            "Epoch 75/200\n",
            "22/22 [==============================] - 0s 2ms/step - loss: 0.3249 - accuracy: 0.8962\n",
            "Epoch 76/200\n",
            "22/22 [==============================] - 0s 2ms/step - loss: 0.3700 - accuracy: 0.8679\n",
            "Epoch 77/200\n",
            "22/22 [==============================] - 0s 1ms/step - loss: 0.4458 - accuracy: 0.8491\n",
            "Epoch 78/200\n",
            "22/22 [==============================] - 0s 2ms/step - loss: 0.4036 - accuracy: 0.8774\n",
            "Epoch 79/200\n",
            "22/22 [==============================] - 0s 2ms/step - loss: 0.3197 - accuracy: 0.8962\n",
            "Epoch 80/200\n",
            "22/22 [==============================] - 0s 2ms/step - loss: 0.3219 - accuracy: 0.8868\n",
            "Epoch 81/200\n",
            "22/22 [==============================] - 0s 2ms/step - loss: 0.4086 - accuracy: 0.9057\n",
            "Epoch 82/200\n",
            "22/22 [==============================] - 0s 2ms/step - loss: 0.3033 - accuracy: 0.8962\n",
            "Epoch 83/200\n",
            "22/22 [==============================] - 0s 2ms/step - loss: 0.4481 - accuracy: 0.8679\n",
            "Epoch 84/200\n",
            "22/22 [==============================] - 0s 2ms/step - loss: 0.3716 - accuracy: 0.8962\n",
            "Epoch 85/200\n",
            "22/22 [==============================] - 0s 2ms/step - loss: 0.3648 - accuracy: 0.9151\n",
            "Epoch 86/200\n",
            "22/22 [==============================] - 0s 2ms/step - loss: 0.3373 - accuracy: 0.9623\n",
            "Epoch 87/200\n",
            "22/22 [==============================] - 0s 2ms/step - loss: 0.4339 - accuracy: 0.8679\n",
            "Epoch 88/200\n",
            "22/22 [==============================] - 0s 2ms/step - loss: 0.1950 - accuracy: 0.9340\n",
            "Epoch 89/200\n",
            "22/22 [==============================] - 0s 2ms/step - loss: 0.2798 - accuracy: 0.9151\n",
            "Epoch 90/200\n",
            "22/22 [==============================] - 0s 2ms/step - loss: 0.1800 - accuracy: 0.9623\n",
            "Epoch 91/200\n",
            "22/22 [==============================] - 0s 2ms/step - loss: 0.2761 - accuracy: 0.9057\n",
            "Epoch 92/200\n",
            "22/22 [==============================] - 0s 2ms/step - loss: 0.2066 - accuracy: 0.9340\n",
            "Epoch 93/200\n",
            "22/22 [==============================] - 0s 2ms/step - loss: 0.1765 - accuracy: 0.9340\n",
            "Epoch 94/200\n",
            "22/22 [==============================] - 0s 2ms/step - loss: 0.1662 - accuracy: 0.9528\n",
            "Epoch 95/200\n",
            "22/22 [==============================] - 0s 2ms/step - loss: 0.2925 - accuracy: 0.8774\n",
            "Epoch 96/200\n",
            "22/22 [==============================] - 0s 1ms/step - loss: 0.2769 - accuracy: 0.9057\n",
            "Epoch 97/200\n",
            "22/22 [==============================] - 0s 2ms/step - loss: 0.2762 - accuracy: 0.9151\n",
            "Epoch 98/200\n",
            "22/22 [==============================] - 0s 1ms/step - loss: 0.2826 - accuracy: 0.9057\n",
            "Epoch 99/200\n",
            "22/22 [==============================] - 0s 2ms/step - loss: 0.2731 - accuracy: 0.8962\n",
            "Epoch 100/200\n",
            "22/22 [==============================] - 0s 2ms/step - loss: 0.3580 - accuracy: 0.9151\n",
            "Epoch 101/200\n",
            "22/22 [==============================] - 0s 2ms/step - loss: 0.1454 - accuracy: 0.9528\n",
            "Epoch 102/200\n",
            "22/22 [==============================] - 0s 2ms/step - loss: 0.2871 - accuracy: 0.9245\n",
            "Epoch 103/200\n",
            "22/22 [==============================] - 0s 2ms/step - loss: 0.2656 - accuracy: 0.9151\n",
            "Epoch 104/200\n",
            "22/22 [==============================] - 0s 2ms/step - loss: 0.1543 - accuracy: 0.9528\n",
            "Epoch 105/200\n",
            "22/22 [==============================] - 0s 2ms/step - loss: 0.3051 - accuracy: 0.9057\n",
            "Epoch 106/200\n",
            "22/22 [==============================] - 0s 2ms/step - loss: 0.2708 - accuracy: 0.9057\n",
            "Epoch 107/200\n",
            "22/22 [==============================] - 0s 2ms/step - loss: 0.2103 - accuracy: 0.9623\n",
            "Epoch 108/200\n",
            "22/22 [==============================] - 0s 2ms/step - loss: 0.2223 - accuracy: 0.9434\n",
            "Epoch 109/200\n",
            "22/22 [==============================] - 0s 2ms/step - loss: 0.1893 - accuracy: 0.9434\n",
            "Epoch 110/200\n",
            "22/22 [==============================] - 0s 2ms/step - loss: 0.2129 - accuracy: 0.9528\n",
            "Epoch 111/200\n",
            "22/22 [==============================] - 0s 2ms/step - loss: 0.3472 - accuracy: 0.8962\n",
            "Epoch 112/200\n",
            "22/22 [==============================] - 0s 2ms/step - loss: 0.1823 - accuracy: 0.9434\n",
            "Epoch 113/200\n",
            "22/22 [==============================] - 0s 2ms/step - loss: 0.2808 - accuracy: 0.8962\n",
            "Epoch 114/200\n",
            "22/22 [==============================] - 0s 2ms/step - loss: 0.2758 - accuracy: 0.9057\n",
            "Epoch 115/200\n",
            "22/22 [==============================] - 0s 1ms/step - loss: 0.2574 - accuracy: 0.9340\n",
            "Epoch 116/200\n",
            "22/22 [==============================] - 0s 2ms/step - loss: 0.2282 - accuracy: 0.9528\n",
            "Epoch 117/200\n",
            "22/22 [==============================] - 0s 2ms/step - loss: 0.1784 - accuracy: 0.9528\n",
            "Epoch 118/200\n",
            "22/22 [==============================] - 0s 2ms/step - loss: 0.2293 - accuracy: 0.9245\n",
            "Epoch 119/200\n",
            "22/22 [==============================] - 0s 2ms/step - loss: 0.2054 - accuracy: 0.9340\n",
            "Epoch 120/200\n",
            "22/22 [==============================] - 0s 2ms/step - loss: 0.2790 - accuracy: 0.9151\n",
            "Epoch 121/200\n",
            "22/22 [==============================] - 0s 2ms/step - loss: 0.2007 - accuracy: 0.9151\n",
            "Epoch 122/200\n",
            "22/22 [==============================] - 0s 2ms/step - loss: 0.1888 - accuracy: 0.9528\n",
            "Epoch 123/200\n",
            "22/22 [==============================] - 0s 2ms/step - loss: 0.1733 - accuracy: 0.9811\n",
            "Epoch 124/200\n",
            "22/22 [==============================] - 0s 2ms/step - loss: 0.2161 - accuracy: 0.9245\n",
            "Epoch 125/200\n",
            "22/22 [==============================] - 0s 2ms/step - loss: 0.2317 - accuracy: 0.9245\n",
            "Epoch 126/200\n",
            "22/22 [==============================] - 0s 2ms/step - loss: 0.1899 - accuracy: 0.9434\n",
            "Epoch 127/200\n",
            "22/22 [==============================] - 0s 2ms/step - loss: 0.1534 - accuracy: 0.9717\n",
            "Epoch 128/200\n",
            "22/22 [==============================] - 0s 2ms/step - loss: 0.1994 - accuracy: 0.9434\n",
            "Epoch 129/200\n",
            "22/22 [==============================] - 0s 2ms/step - loss: 0.2274 - accuracy: 0.9434\n",
            "Epoch 130/200\n",
            "22/22 [==============================] - 0s 2ms/step - loss: 0.2025 - accuracy: 0.9528\n",
            "Epoch 131/200\n",
            "22/22 [==============================] - 0s 2ms/step - loss: 0.2152 - accuracy: 0.9151\n",
            "Epoch 132/200\n",
            "22/22 [==============================] - 0s 2ms/step - loss: 0.2858 - accuracy: 0.9057\n",
            "Epoch 133/200\n",
            "22/22 [==============================] - 0s 2ms/step - loss: 0.2088 - accuracy: 0.9528\n",
            "Epoch 134/200\n",
            "22/22 [==============================] - 0s 2ms/step - loss: 0.1976 - accuracy: 0.9434\n",
            "Epoch 135/200\n",
            "22/22 [==============================] - 0s 2ms/step - loss: 0.1598 - accuracy: 0.9717\n",
            "Epoch 136/200\n",
            "22/22 [==============================] - 0s 2ms/step - loss: 0.2194 - accuracy: 0.9340\n",
            "Epoch 137/200\n",
            "22/22 [==============================] - 0s 2ms/step - loss: 0.1827 - accuracy: 0.9434\n",
            "Epoch 138/200\n",
            "22/22 [==============================] - 0s 2ms/step - loss: 0.2540 - accuracy: 0.9245\n",
            "Epoch 139/200\n",
            "22/22 [==============================] - 0s 2ms/step - loss: 0.1865 - accuracy: 0.9434\n",
            "Epoch 140/200\n",
            "22/22 [==============================] - 0s 1ms/step - loss: 0.1143 - accuracy: 0.9811\n",
            "Epoch 141/200\n",
            "22/22 [==============================] - 0s 2ms/step - loss: 0.1217 - accuracy: 0.9717\n",
            "Epoch 142/200\n",
            "22/22 [==============================] - 0s 1ms/step - loss: 0.1890 - accuracy: 0.9340\n",
            "Epoch 143/200\n",
            "22/22 [==============================] - 0s 2ms/step - loss: 0.2233 - accuracy: 0.9623\n",
            "Epoch 144/200\n",
            "22/22 [==============================] - 0s 2ms/step - loss: 0.2603 - accuracy: 0.9245\n",
            "Epoch 145/200\n",
            "22/22 [==============================] - 0s 2ms/step - loss: 0.2206 - accuracy: 0.9245\n",
            "Epoch 146/200\n",
            "22/22 [==============================] - 0s 2ms/step - loss: 0.1286 - accuracy: 0.9717\n",
            "Epoch 147/200\n",
            "22/22 [==============================] - 0s 2ms/step - loss: 0.1808 - accuracy: 0.9340\n",
            "Epoch 148/200\n",
            "22/22 [==============================] - 0s 2ms/step - loss: 0.1685 - accuracy: 0.9528\n",
            "Epoch 149/200\n",
            "22/22 [==============================] - 0s 2ms/step - loss: 0.1389 - accuracy: 0.9623\n",
            "Epoch 150/200\n",
            "22/22 [==============================] - 0s 2ms/step - loss: 0.1710 - accuracy: 0.9528\n",
            "Epoch 151/200\n",
            "22/22 [==============================] - 0s 2ms/step - loss: 0.1048 - accuracy: 0.9717\n",
            "Epoch 152/200\n",
            "22/22 [==============================] - 0s 2ms/step - loss: 0.1456 - accuracy: 0.9623\n",
            "Epoch 153/200\n",
            "22/22 [==============================] - 0s 2ms/step - loss: 0.1424 - accuracy: 0.9623\n",
            "Epoch 154/200\n",
            "22/22 [==============================] - 0s 2ms/step - loss: 0.1005 - accuracy: 0.9623\n",
            "Epoch 155/200\n",
            "22/22 [==============================] - 0s 1ms/step - loss: 0.1892 - accuracy: 0.9528\n",
            "Epoch 156/200\n",
            "22/22 [==============================] - 0s 2ms/step - loss: 0.1734 - accuracy: 0.9245\n",
            "Epoch 157/200\n",
            "22/22 [==============================] - 0s 2ms/step - loss: 0.1645 - accuracy: 0.9434\n",
            "Epoch 158/200\n",
            "22/22 [==============================] - 0s 2ms/step - loss: 0.1466 - accuracy: 0.9434\n",
            "Epoch 159/200\n",
            "22/22 [==============================] - 0s 2ms/step - loss: 0.0764 - accuracy: 0.9906\n",
            "Epoch 160/200\n",
            "22/22 [==============================] - 0s 2ms/step - loss: 0.1423 - accuracy: 0.9434\n",
            "Epoch 161/200\n",
            "22/22 [==============================] - 0s 2ms/step - loss: 0.2278 - accuracy: 0.9434\n",
            "Epoch 162/200\n",
            "22/22 [==============================] - 0s 2ms/step - loss: 0.1903 - accuracy: 0.9245\n",
            "Epoch 163/200\n",
            "22/22 [==============================] - 0s 2ms/step - loss: 0.2081 - accuracy: 0.9434\n",
            "Epoch 164/200\n",
            "22/22 [==============================] - 0s 2ms/step - loss: 0.1341 - accuracy: 0.9528\n",
            "Epoch 165/200\n",
            "22/22 [==============================] - 0s 1ms/step - loss: 0.1130 - accuracy: 0.9623\n",
            "Epoch 166/200\n",
            "22/22 [==============================] - 0s 2ms/step - loss: 0.0945 - accuracy: 0.9811\n",
            "Epoch 167/200\n",
            "22/22 [==============================] - 0s 2ms/step - loss: 0.1092 - accuracy: 0.9623\n",
            "Epoch 168/200\n",
            "22/22 [==============================] - 0s 2ms/step - loss: 0.1219 - accuracy: 0.9528\n",
            "Epoch 169/200\n",
            "22/22 [==============================] - 0s 2ms/step - loss: 0.1053 - accuracy: 0.9717\n",
            "Epoch 170/200\n",
            "22/22 [==============================] - 0s 2ms/step - loss: 0.0725 - accuracy: 0.9717\n",
            "Epoch 171/200\n",
            "22/22 [==============================] - 0s 2ms/step - loss: 0.2012 - accuracy: 0.9057\n",
            "Epoch 172/200\n",
            "22/22 [==============================] - 0s 2ms/step - loss: 0.1865 - accuracy: 0.9623\n",
            "Epoch 173/200\n",
            "22/22 [==============================] - 0s 2ms/step - loss: 0.1266 - accuracy: 0.9811\n",
            "Epoch 174/200\n",
            "22/22 [==============================] - 0s 2ms/step - loss: 0.1102 - accuracy: 0.9717\n",
            "Epoch 175/200\n",
            "22/22 [==============================] - 0s 2ms/step - loss: 0.1804 - accuracy: 0.9528\n",
            "Epoch 176/200\n",
            "22/22 [==============================] - 0s 2ms/step - loss: 0.1287 - accuracy: 0.9623\n",
            "Epoch 177/200\n",
            "22/22 [==============================] - 0s 2ms/step - loss: 0.1502 - accuracy: 0.9434\n",
            "Epoch 178/200\n",
            "22/22 [==============================] - 0s 2ms/step - loss: 0.1805 - accuracy: 0.9434\n",
            "Epoch 179/200\n",
            "22/22 [==============================] - 0s 2ms/step - loss: 0.0850 - accuracy: 0.9811\n",
            "Epoch 180/200\n",
            "22/22 [==============================] - 0s 2ms/step - loss: 0.1104 - accuracy: 0.9528\n",
            "Epoch 181/200\n",
            "22/22 [==============================] - 0s 2ms/step - loss: 0.1326 - accuracy: 0.9623\n",
            "Epoch 182/200\n",
            "22/22 [==============================] - 0s 2ms/step - loss: 0.1196 - accuracy: 0.9528\n",
            "Epoch 183/200\n",
            "22/22 [==============================] - 0s 2ms/step - loss: 0.1769 - accuracy: 0.9528\n",
            "Epoch 184/200\n",
            "22/22 [==============================] - 0s 2ms/step - loss: 0.2524 - accuracy: 0.9245\n",
            "Epoch 185/200\n",
            "22/22 [==============================] - 0s 2ms/step - loss: 0.1384 - accuracy: 0.9623\n",
            "Epoch 186/200\n",
            "22/22 [==============================] - 0s 2ms/step - loss: 0.1488 - accuracy: 0.9434\n",
            "Epoch 187/200\n",
            "22/22 [==============================] - 0s 2ms/step - loss: 0.1368 - accuracy: 0.9434\n",
            "Epoch 188/200\n",
            "22/22 [==============================] - 0s 2ms/step - loss: 0.0875 - accuracy: 0.9811\n",
            "Epoch 189/200\n",
            "22/22 [==============================] - 0s 2ms/step - loss: 0.1088 - accuracy: 0.9717\n",
            "Epoch 190/200\n",
            "22/22 [==============================] - 0s 2ms/step - loss: 0.0976 - accuracy: 0.9811\n",
            "Epoch 191/200\n",
            "22/22 [==============================] - 0s 2ms/step - loss: 0.0778 - accuracy: 0.9811\n",
            "Epoch 192/200\n",
            "22/22 [==============================] - 0s 3ms/step - loss: 0.1246 - accuracy: 0.9623\n",
            "Epoch 193/200\n",
            "22/22 [==============================] - 0s 1ms/step - loss: 0.0702 - accuracy: 0.9811\n",
            "Epoch 194/200\n",
            "22/22 [==============================] - 0s 1ms/step - loss: 0.1360 - accuracy: 0.9623\n",
            "Epoch 195/200\n",
            "22/22 [==============================] - 0s 2ms/step - loss: 0.0990 - accuracy: 0.9717\n",
            "Epoch 196/200\n",
            "22/22 [==============================] - 0s 2ms/step - loss: 0.1638 - accuracy: 0.9528\n",
            "Epoch 197/200\n",
            "22/22 [==============================] - 0s 2ms/step - loss: 0.0826 - accuracy: 0.9811\n",
            "Epoch 198/200\n",
            "22/22 [==============================] - 0s 2ms/step - loss: 0.1184 - accuracy: 0.9717\n",
            "Epoch 199/200\n",
            "22/22 [==============================] - 0s 1ms/step - loss: 0.1491 - accuracy: 0.9434\n",
            "Epoch 200/200\n",
            "22/22 [==============================] - 0s 2ms/step - loss: 0.1833 - accuracy: 0.9434\n",
            "model is created\n"
          ]
        }
      ]
    },
    {
      "cell_type": "code",
      "metadata": {
        "id": "Oei77qGxAy7M"
      },
      "source": [
        ""
      ],
      "execution_count": null,
      "outputs": []
    }
  ]
}